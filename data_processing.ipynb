{
 "cells": [
  {
   "cell_type": "code",
   "execution_count": null,
   "metadata": {},
   "outputs": [],
   "source": [
    "import pandas as pd\n",
    "import os"
   ]
  },
  {
   "cell_type": "code",
   "execution_count": 20,
   "metadata": {},
   "outputs": [
    {
     "name": "stdout",
     "output_type": "stream",
     "text": [
      "['./data/maestro/maestro-v3.0.0/2018/MIDI-Unprocessed_Chamber3_MID--AUDIO_10_R3_2018_wav--1.midi', './data/maestro/maestro-v3.0.0/2008/MIDI-Unprocessed_03_R2_2008_01-03_ORIG_MID--AUDIO_03_R2_2008_wav--2.midi', './data/maestro/maestro-v3.0.0/2017/MIDI-Unprocessed_066_PIANO066_MID--AUDIO-split_07-07-17_Piano-e_3-02_wav--3.midi', './data/maestro/maestro-v3.0.0/2004/MIDI-Unprocessed_XP_21_R1_2004_01_ORIG_MID--AUDIO_21_R1_2004_01_Track01_wav.midi', './data/maestro/maestro-v3.0.0/2006/MIDI-Unprocessed_17_R1_2006_01-06_ORIG_MID--AUDIO_17_R1_2006_04_Track04_wav.midi']\n"
     ]
    }
   ],
   "source": [
    "data_dir = \"./data/maestro/maestro-v3.0.0\"\n",
    "metadata = pd.read_csv(os.path.join(data_dir, \"maestro-v3.0.0.csv\"))\n",
    "# Extract paths of MIDI files\n",
    "midi_paths = metadata[\"midi_filename\"].apply(lambda x: os.path.join(data_dir, x)).tolist()\n",
    "\n",
    "# Print sample MIDI file paths\n",
    "print(midi_paths[:5])"
   ]
  },
  {
   "cell_type": "code",
   "execution_count": null,
   "metadata": {},
   "outputs": [],
   "source": [
    "output_dir = \"./data/maestro/tokenized_data\"\n",
    "os.makedirs(output_dir, exist_ok=True)"
   ]
  },
  {
   "cell_type": "code",
   "execution_count": null,
   "metadata": {},
   "outputs": [
    {
     "name": "stdout",
     "output_type": "stream",
     "text": [
      "midi files processed and tokenized\n"
     ]
    }
   ],
   "source": [
    "import pickle\n",
    "import mido\n",
    "\n",
    "# Function to extract MIDI events (Note On/Off, Control Change, and Time)\n",
    "def extract_midi_events(midi_path):\n",
    "    midi_file = mido.MidiFile(midi_path)\n",
    "    \n",
    "    events = []\n",
    "    for track in midi_file.tracks:\n",
    "        time = 0  # Time in ticks\n",
    "        for msg in track:\n",
    "            time += msg.time  # Increment time with the delta-time of the event\n",
    "            \n",
    "            # Store the relevant MIDI events\n",
    "            if msg.type == 'note_on' or msg.type == 'note_off':\n",
    "                events.append({\n",
    "                    'type': msg.type,\n",
    "                    'note': msg.note,\n",
    "                    'velocity': msg.velocity,\n",
    "                    'time': time\n",
    "                })\n",
    "            elif msg.type == 'control_change':\n",
    "                events.append({\n",
    "                    'type': msg.type,\n",
    "                    'control': msg.control,\n",
    "                    'value': msg.value,\n",
    "                    'time': time\n",
    "                })\n",
    "    return events\n",
    "\n",
    "# Function to tokenize MIDI events\n",
    "def tokenize_midi_events(events):\n",
    "    tokens = []\n",
    "    for event in events:\n",
    "        if event['type'] == 'note_on':\n",
    "            token = f\"note_on_{event['note']}\"\n",
    "        elif event['type'] == 'note_off':\n",
    "            token = f\"note_off_{event['note']}\"\n",
    "        elif event['type'] == 'control_change':\n",
    "            token = f\"control_change_{event['control']}_{event['value']}\"\n",
    "        tokens.append(token)\n",
    "    return tokens\n",
    "\n",
    "# Main processing function\n",
    "def process_midi(midi_path, tokenizer):\n",
    "    try:\n",
    "        # Extract MIDI events from the MIDI file\n",
    "        midi_events = extract_midi_events(midi_path)\n",
    "        \n",
    "        # Tokenize the MIDI events\n",
    "        tokens = tokenize_midi_events(midi_events)\n",
    "        \n",
    "        return tokens\n",
    "    except Exception as e:\n",
    "        print(f\"Error processing {midi_path}: {e}\")\n",
    "        return None\n",
    "\n",
    "# List of MIDI paths (Replace with your actual list of paths)\n",
    "midi_paths = [\"path_to_midi_file1.mid\", \"path_to_midi_file2.mid\", ...]  # Add your MIDI file paths here\n",
    "\n",
    "# Example tokenizer (In your case, you might use a different tokenizer, such as a pretrained tokenizer)\n",
    "tokenized_data = []\n",
    "for midi_path in midi_paths[:10]:  # Process only the first 10 MIDI files\n",
    "    tokens = process_midi(midi_path, tokenizer=None)  # No external tokenizer in this example\n",
    "    if tokens is not None:\n",
    "        tokenized_data.append(tokens)\n",
    "\n",
    "# Save the tokenized data to a pickle file\n",
    "output_dir = \"path/to/output\"  # Specify your output directory\n",
    "os.makedirs(output_dir, exist_ok=True)  # Ensure output directory exists\n",
    "with open(os.path.join(output_dir, \"tokenized_data.pkl\"), \"wb\") as f:\n",
    "    pickle.dump(tokenized_data, f)\n",
    "\n",
    "print(\"MIDI files processed and tokenized\")"
   ]
  }
 ],
 "metadata": {
  "kernelspec": {
   "display_name": "pml2",
   "language": "python",
   "name": "python3"
  },
  "language_info": {
   "codemirror_mode": {
    "name": "ipython",
    "version": 3
   },
   "file_extension": ".py",
   "mimetype": "text/x-python",
   "name": "python",
   "nbconvert_exporter": "python",
   "pygments_lexer": "ipython3",
   "version": "3.10.14"
  }
 },
 "nbformat": 4,
 "nbformat_minor": 2
}
